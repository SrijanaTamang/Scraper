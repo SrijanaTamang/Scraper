{
 "cells": [
  {
   "cell_type": "code",
   "execution_count": 28,
   "metadata": {},
   "outputs": [],
   "source": [
    "from bs4 import BeautifulSoup\n",
    "import unicodedata\n",
    "import requests\n",
    "import re\n",
    "from sqlalchemy import create_engine\n",
    "from sqlalchemy.ext.declarative import declarative_base\n",
    "from sqlalchemy.orm import sessionmaker\n",
    "from sqlalchemy import Column\n",
    "from sqlalchemy import String\n",
    "from sqlalchemy import Integer\n",
    "from sqlalchemy import MetaData"
   ]
  },
  {
   "cell_type": "code",
   "execution_count": 30,
   "metadata": {},
   "outputs": [],
   "source": [
    "#init connection to sqlite \n",
    "engine = create_engine(\"sqlite:///test_db.db\")\n",
    "#create session to cache commands for sqlite engine instance\n",
    "Session = sessionmaker(bind = engine)\n",
    "session = Session()"
   ]
  },
  {
   "cell_type": "code",
   "execution_count": null,
   "metadata": {},
   "outputs": [],
   "source": [
    "#provide table definition\n",
    "Base = declarative_base()\n",
    "\n",
    "class User(Base):\n",
    "    __tablename__ = 'user'\n",
    "    id = Column('id',Integer, primary_key = True)\n",
    "    title = Column(String(100))\n",
    "    date = Column(String(50))\n",
    "    details = Column(String(1000))\n",
    "\n",
    "    def __init__(self, title, date, details):\n",
    "        self.title = title\n",
    "        self.date = date\n",
    "        self.details = details\n",
    "        \n",
    "    #for print    \n",
    "    def __repr__(self):\n",
    "        return f'{self.title} - {self.date} - {self.details}'\n",
    "\n"
   ]
  },
  {
   "cell_type": "code",
   "execution_count": null,
   "metadata": {},
   "outputs": [],
   "source": [
    "#call to metadata to generate schema\n",
    "Base.metadata.create_all(engine)"
   ]
  },
  {
   "cell_type": "code",
   "execution_count": null,
   "metadata": {},
   "outputs": [],
   "source": [
    "page = requests.get('https://www1.nyc.gov/site/manhattancb1/meetings/committee-agendas.page')"
   ]
  },
  {
   "cell_type": "code",
   "execution_count": null,
   "metadata": {},
   "outputs": [],
   "source": [
    "soup = BeautifulSoup(page.text,'html.parser')"
   ]
  },
  {
   "cell_type": "code",
   "execution_count": null,
   "metadata": {},
   "outputs": [],
   "source": [
    "paragraphs = soup.find(class_='about-description').find_all('p')"
   ]
  },
  {
   "cell_type": "code",
   "execution_count": null,
   "metadata": {
    "scrolled": false
   },
   "outputs": [],
   "source": [
    "events = []\n",
    "event_num = None\n",
    "event = []\n",
    "\n",
    "for par in paragraphs:\n",
    "    #ends event and starts a new event\n",
    "    if event_num is not None and re.search(r\"^(\\d*[/]\\d*)\",par.text):\n",
    "        events.append(event)\n",
    "        event = []\n",
    "        event_num += 1\n",
    "\n",
    "    #finds intial event and starts the process\n",
    "    if event_num is None and re.search(r\"^(\\d*[/]\\d*)\",par.text):\n",
    "        event = []\n",
    "        event_num = 0\n",
    "\n",
    "    event.append(par)\n"
   ]
  },
  {
   "cell_type": "code",
   "execution_count": null,
   "metadata": {},
   "outputs": [],
   "source": [
    "events_dict = {}\n",
    "\n",
    "for i, event in enumerate(events):\n",
    "    event_string = ''.join([tag.text for tag in event])\n",
    "    #print(event_string, '\\n')\n",
    "    date = re.search(r\"^(\\d*[/]\\d*)\",event_string).group(0)\n",
    "    title = event[0].find('b').text\n",
    "    details = ''.join([tag.text for tag in event[1:]])\n",
    "    details = details.strip().replace('\\xa0', '')\n",
    "    time = re.search(r\"((1[0-2]|0?\\d):(\\d\\d) ([AaPp][Mm]))\",event_string).group(0)    \n",
    "\n",
    "    events_dict[i] = {\n",
    "        'date': date,\n",
    "        'time':time,\n",
    "        'title': title,\n",
    "        'details':details\n",
    "    }\n",
    "    "
   ]
  },
  {
   "cell_type": "code",
   "execution_count": null,
   "metadata": {},
   "outputs": [],
   "source": [
    "#events_dict"
   ]
  },
  {
   "cell_type": "code",
   "execution_count": null,
   "metadata": {},
   "outputs": [],
   "source": [
    "for event in events_dict.values():\n",
    "    row = User(title=event['title'], date=event['date'], details=event['details'])\n",
    "    session.add(row)\n",
    "session.commit()"
   ]
  },
  {
   "cell_type": "code",
   "execution_count": null,
   "metadata": {},
   "outputs": [],
   "source": [
    "#print all users\n",
    "for user in session.query(User):\n",
    "    print(user)"
   ]
  }
 ],
 "metadata": {
  "kernelspec": {
   "display_name": "Python 3",
   "language": "python",
   "name": "python3"
  },
  "language_info": {
   "codemirror_mode": {
    "name": "ipython",
    "version": 3
   },
   "file_extension": ".py",
   "mimetype": "text/x-python",
   "name": "python",
   "nbconvert_exporter": "python",
   "pygments_lexer": "ipython3",
   "version": "3.7.7"
  }
 },
 "nbformat": 4,
 "nbformat_minor": 2
}
