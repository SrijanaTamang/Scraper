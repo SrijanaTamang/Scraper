{
 "cells": [
  {
   "cell_type": "code",
   "execution_count": 1,
   "metadata": {},
   "outputs": [],
   "source": [
    "from bs4 import BeautifulSoup\n",
    "import unicodedata\n",
    "import requests\n",
    "import re\n",
    "from sqlalchemy import create_engine, Column, String, Integer, MetaData\n",
    "from sqlalchemy.ext.declarative import declarative_base\n",
    "from sqlalchemy.orm import sessionmaker"
   ]
  },
  {
   "cell_type": "code",
   "execution_count": 2,
   "metadata": {},
   "outputs": [],
   "source": [
    "#init connection to sqlite \n",
    "engine = create_engine(\"sqlite:///events.db\")\n",
    "#create session to cache commands for sqlite engine instance\n",
    "Session = sessionmaker(bind = engine)\n",
    "session = Session()"
   ]
  },
  {
   "cell_type": "code",
   "execution_count": 3,
   "metadata": {},
   "outputs": [],
   "source": [
    "#provide table definition\n",
    "Base = declarative_base()\n",
    "\n",
    "class Event(Base):\n",
    "    __tablename__ = 'event'\n",
    "    id = Column('id',Integer, primary_key = True)\n",
    "    district = Column(Integer)\n",
    "    title = Column(String(100))\n",
    "    date = Column(String(50))\n",
    "    details = Column(String(1000))\n",
    "    time = Column(String(50))\n",
    "\n",
    "    def __init__(self, title, date, details,time,district):\n",
    "        self.title = title\n",
    "        self.date = date\n",
    "        self.details = details\n",
    "        self.time = time\n",
    "        self.district = district\n",
    "        \n",
    "    #for print    \n",
    "    def __repr__(self):\n",
    "        return f'{self.title} - {self.date}: {self.time}\\n {self.details}'"
   ]
  },
  {
   "cell_type": "code",
   "execution_count": 4,
   "metadata": {},
   "outputs": [],
   "source": [
    "#call to metadata to generate schema\n",
    "Base.metadata.create_all(engine)"
   ]
  },
  {
   "cell_type": "code",
   "execution_count": 5,
   "metadata": {},
   "outputs": [],
   "source": [
    "page = requests.get('https://www1.nyc.gov/site/manhattancb1/meetings/committee-agendas.page')"
   ]
  },
  {
   "cell_type": "code",
   "execution_count": 6,
   "metadata": {},
   "outputs": [],
   "source": [
    "soup = BeautifulSoup(page.text,'html.parser')"
   ]
  },
  {
   "cell_type": "code",
   "execution_count": 7,
   "metadata": {},
   "outputs": [],
   "source": [
    "paragraphs = soup.find(class_='about-description').find_all('p')"
   ]
  },
  {
   "cell_type": "code",
   "execution_count": 8,
   "metadata": {
    "scrolled": false
   },
   "outputs": [],
   "source": [
    "events = []\n",
    "event_num = None\n",
    "event = []\n",
    "\n",
    "for par in paragraphs:\n",
    "    #ends event and starts a new event\n",
    "    if event_num is not None and re.search(r\"^(\\d*[/]\\d*)\",par.text):\n",
    "        events.append(event)\n",
    "        event = []\n",
    "        event_num += 1\n",
    "\n",
    "    #finds intial event and starts the process\n",
    "    if event_num is None and re.search(r\"^(\\d*[/]\\d*)\",par.text):\n",
    "        event = []\n",
    "        event_num = 0\n",
    "\n",
    "    event.append(par)\n"
   ]
  },
  {
   "cell_type": "code",
   "execution_count": 9,
   "metadata": {},
   "outputs": [],
   "source": [
    "events_dict = {}\n",
    "\n",
    "for i, event in enumerate(events):\n",
    "    event_string = ''.join([tag.text for tag in event])\n",
    "    #print(event_string, '\\n')\n",
    "    date = re.search(r\"^(\\d*[/]\\d*)\",event_string).group(0)\n",
    "    title = event[0].find('b').text\n",
    "    details = ''.join([tag.text for tag in event[1:]])\n",
    "    details = details.strip().replace('\\xa0', '')\n",
    "    time = re.search(r\"((1[0-2]|0?\\d):(\\d\\d) ([AaPp][Mm]))\",event_string)  \n",
    "        \n",
    "    events_dict[i] = {\n",
    "        'date': date,\n",
    "        'time':time.group(0) if time else '',\n",
    "        'title': title,\n",
    "        'details':details\n",
    "    }"
   ]
  },
  {
   "cell_type": "code",
   "execution_count": 10,
   "metadata": {},
   "outputs": [],
   "source": [
    "district = 101\n",
    "#remove previous entries\n",
    "session.query(Event).filter(Event.district == district).delete()\n",
    "session.commit()\n",
    "\n",
    "#add items to database\n",
    "for event in events_dict.values():\n",
    "    row = Event(title=event['title'], date=event['date'],\n",
    "                details=event['details'], time=event['time'], district= district)\n",
    "    session.add(row)\n",
    "session.commit()"
   ]
  },
  {
   "cell_type": "code",
   "execution_count": 11,
   "metadata": {},
   "outputs": [
    {
     "name": "stdout",
     "output_type": "stream",
     "text": [
      "Transportation & Street Activity Permits Committee – 6:00 PM - 5/5: 6:00 PM\n",
      " 1)Creating a Framework for Social Distancing on the Streets of CB1 - Discussion & Resolution\n",
      "Battery Park City Committee – 6:00 PM - 5/6: 6:00 PM\n",
      " 1) South Battery Park City Resiliency Project – Gwen Dawson, BPCA Vice President of Real Property; Jennifer Dudgeon, Director of Design*2) BPC Wayfinding Signage Update – Gwen Dawson, BPCA Vice President of Real Property; Kim Robledo, Associate Project Manager3) Rector Place Sidewalk Restoration & West Thames Punch List Items - Discussion & Possible Resolution4) Brookfield Place - Covid19 Changes, Pumphouse Park Construction, Personnel and Project Updates - Mark Kostic, Senior VP, Asset Management and Leasing and Alex Liscio, Vice President Brookfield Property Partners5) BPCA Report – Nicholas Sbordone, Vice President of Communications & Public Affairs, Battery Park City Authority6) BPC Security Update – Patrick Murphy, Director of Security, Allied Universal*Environmental Protection Committee invited for item #1\n",
      "Land Use, Zoning & Economic Development Committee – 6:00PM - 5/11: \n",
      " 1)100 William Street, Board of Standards and Appeals application for special permit to allow the operation of a physical culture establishment (Orangetheory Gym) - ResolutionSmall Business Working Group 1) Small Business Working Group Mandate and Objectives - Discussion2) Short-term business assistance and relief - Discussion3)Long-term economic recovery - Discussion\n",
      "Youth & Education Committee – 5:30 PM         (Held Jointly with Manhattan CB 2’s Youth Committee) - 5/12: 5:30 PM\n",
      " \n",
      "Licensing & Permits Committee – 6:00 PM - 5/13: 6:00 PM\n",
      " Battery Park City area1)250 Vesey Street, 2nd Floor, application for liquor license for Saks and Company, LLC d/b/a TBD – ResolutionTribeca area1)27 Vestry Street, application for liquor license for GM 27 LLC d/b/a TBD – Resolution2)50 Fulton Street, application for liquor license for Endless Ventures Inc. d/b/a Little Italy Pizza – Resolution3) 130 Duane Street, application for corporate change for liquor license for Hersha Hospitality Management L.P. d/b/a The Duane Street Hotel and Graffiti Earth – Discussion4)39 Avenue of the Americas, application for corporate change for liquor license for Hersha Hospitality Management L.P. d/b/a Hilton Garden Inn Tribeca – DiscussionThe following notices have been received for renewal, upgrade, corporate change, minor alteration or transfer of wine and beer or liquor licenses, renewal of sidewalk café permits and recurring street closure permits:● 361 Greenwich Street, application for renewal of liquor license for IMNY GS, LLC d/b/a Il Mulino New York● 412 Greenwich Street, application for renewal of liquor license for 412 Greenwich Street LLC d/b/a Dig Inn● 233 West Street, Pier 26, application for renewal of liquor license for City Vineyard, LLC d/b/a City Vineyard● 353 Greenwich Street, application for renewal of liquor license for Maryann’s 353 Mex Inc. d/b/a Zona Tribeca Mezcaleria● 225 West Street, Pier 25, application for method of operation change for GBSZ LLC d/b/a Grand Banks Financial District area1)102 Greenwich Street, application for liquor license for Fathelbab, Inc. d/b/a TBD – Resolution2)25 Broadway, application for liquor license for 25 Broadway Ballroom LLC d/b/a Cipriani 25 Broadway – Resolution3)130 Cedar Street, application for corporate change for liquor license for Cedar & Washington Associates LLC d/b/a Club Quarters – DiscussionThe following notices have been received for renewal, upgrade, corporate change, minor alteration or transfer of wine and beer or liquor licenses, renewal of sidewalk café permits and recurring street closure permits:● 88 Broad Street, application for renewal of liquor license for OBBM LLC d/b/a Broadstone Tap HouseSeaport/Civic Center areaThe following notices have been received for renewal, upgrade, corporate change, minor alteration or transfer of wine and beer or liquor licenses, renewal of sidewalk café permits and recurring street closure permits:● 228 Front Street, application for renewal of liquor license for Jeremey’s Ale House Still, Inc. d/b/a TBD● 95 South Street, application for renewal of liquor license for HHC Bridgeview LLC d/b/a TBD\n",
      "Landmarks & Preservation Committee – 6:00 PM - 5/14: 6:00 PM\n",
      " 1)74 Leonard Street, extension of existing elevator bulkhead to provide 6th Floor elevator access – Resolution2)84 South Street, application for NYC Parks Department Concession – Resolution3)75 Broadway, application for glass window replacement – Resolution4)180 Water Street, application for restoration and development of the existing Seaport District memorial light tower – Resolution\n",
      "Environmental Protection Committee – 6:00 PM - 5/18: 6:00 PM\n",
      " 1)Army Corps of Engineers North Atlantic Harbor and Tributaries Study Federal Funding - Resolution2) Battery Park City Authority Resiliency Deployables - Presentation by Battery Park City Authority*3) Lower Manhattan Resiliency Projects - Update4) Climate, Sustainability & COVID19 - Discussion5)250 Water Street Brownfield Cleanup Program - Report*Battery Park City Committee invited for item #2\n",
      "Waterfront, Parks & Cultural Committee – 6:00 PM - 5/19: 6:00 PM\n",
      " 1) Proposed Relocation of Charging Bull statue from Bowling Green to Broad St north of Exchange Place – Presentation by NYC Department of Transportation**Transportation & Street Activity Permits Committee invited for item #1\n",
      "Executive Committee – 6:00 PM - 5/20: 6:00 PM\n",
      " 1)New Member Appointments - Presentation by Anthony Notaro, Chairperson, Manhattan Community Board 12) Committee reports\n",
      "Quality of Life & Service Delivery Committee – 6:00 PM - 5/21: 6:00 PM\n",
      " 1)DDC Street Reconstruction Oversight - Updates2)Water Street Reconstruction (Postponed Indefinitely by The City of New York)\n",
      "Office Closed – Memorial Day - 5/25: \n",
      " \n"
     ]
    }
   ],
   "source": [
    "#print all users\n",
    "for event in session.query(Event).filter(Event.district == 101):\n",
    "    print(event)"
   ]
  }
 ],
 "metadata": {
  "kernelspec": {
   "display_name": "Python 3",
   "language": "python",
   "name": "python3"
  },
  "language_info": {
   "codemirror_mode": {
    "name": "ipython",
    "version": 3
   },
   "file_extension": ".py",
   "mimetype": "text/x-python",
   "name": "python",
   "nbconvert_exporter": "python",
   "pygments_lexer": "ipython3",
   "version": "3.7.6"
  }
 },
 "nbformat": 4,
 "nbformat_minor": 2
}
