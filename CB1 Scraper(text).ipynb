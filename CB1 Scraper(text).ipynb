{
 "cells": [
  {
   "cell_type": "code",
   "execution_count": 1,
   "metadata": {},
   "outputs": [],
   "source": [
    "from bs4 import BeautifulSoup\n",
    "import unicodedata\n",
    "import requests\n",
    "import re\n",
    "from sqlalchemy import create_engine, Column, String, Integer, MetaData\n",
    "from sqlalchemy.ext.declarative import declarative_base\n",
    "from sqlalchemy.orm import sessionmaker"
   ]
  },
  {
   "cell_type": "code",
   "execution_count": 2,
   "metadata": {},
   "outputs": [],
   "source": [
    "#init connection to sqlite \n",
    "engine = create_engine(\"sqlite:///events.db\")\n",
    "#create session to cache commands for sqlite engine instance\n",
    "Session = sessionmaker(bind = engine)\n",
    "session = Session()"
   ]
  },
  {
   "cell_type": "code",
   "execution_count": 3,
   "metadata": {},
   "outputs": [],
   "source": [
    "#provide table definition\n",
    "Base = declarative_base()\n",
    "\n",
    "class Event(Base):\n",
    "    __tablename__ = 'event'\n",
    "    id = Column('id',Integer, primary_key = True)\n",
    "    district = Column(Integer)\n",
    "    title = Column(String(100))\n",
    "    date = Column(String(50))\n",
    "    details = Column(String(1000))\n",
    "    time = Column(String(50))\n",
    "\n",
    "    def __init__(self, title, date, details,time,district):\n",
    "        self.title = title\n",
    "        self.date = date\n",
    "        self.details = details\n",
    "        self.time = time\n",
    "        self.district = district\n",
    "        \n",
    "    #for print    \n",
    "    def __repr__(self):\n",
    "        return f'{self.title} - {self.date}: {self.time}\\n {self.details}'"
   ]
  },
  {
   "cell_type": "code",
   "execution_count": 4,
   "metadata": {},
   "outputs": [],
   "source": [
    "#call to metadata to generate schema\n",
    "Base.metadata.create_all(engine)"
   ]
  },
  {
   "cell_type": "code",
   "execution_count": 5,
   "metadata": {},
   "outputs": [],
   "source": [
    "page = requests.get('https://www1.nyc.gov/site/manhattancb1/meetings/committee-agendas.page')"
   ]
  },
  {
   "cell_type": "code",
   "execution_count": 6,
   "metadata": {},
   "outputs": [],
   "source": [
    "soup = BeautifulSoup(page.text,'html.parser')"
   ]
  },
  {
   "cell_type": "code",
   "execution_count": 7,
   "metadata": {},
   "outputs": [],
   "source": [
    "paragraphs = soup.find(class_='about-description').find_all('p')"
   ]
  },
  {
   "cell_type": "code",
   "execution_count": 8,
   "metadata": {
    "scrolled": false
   },
   "outputs": [],
   "source": [
    "events = []\n",
    "event_num = None\n",
    "event = []\n",
    "\n",
    "for par in paragraphs:\n",
    "    #ends event and starts a new event\n",
    "    if event_num is not None and re.search(r\"^(\\d*[/]\\d*)\",par.text):\n",
    "        events.append(event)\n",
    "        event = []\n",
    "        event_num += 1\n",
    "\n",
    "    #finds intial event and starts the process\n",
    "    if event_num is None and re.search(r\"^(\\d*[/]\\d*)\",par.text):\n",
    "        event = []\n",
    "        event_num = 0\n",
    "\n",
    "    event.append(par)\n"
   ]
  },
  {
   "cell_type": "code",
   "execution_count": 9,
   "metadata": {},
   "outputs": [],
   "source": [
    "events_dict = {}\n",
    "\n",
    "for i, event in enumerate(events):\n",
    "    event_string = ''.join([tag.text for tag in event])\n",
    "    #print(event_string, '\\n')\n",
    "    date = re.search(r\"^(\\d*[/]\\d*)\",event_string).group(0)\n",
    "    title = event[0].find('b').text\n",
    "    details = ''.join([tag.text for tag in event[1:]])\n",
    "    details = details.strip().replace('\\xa0', '')\n",
    "    time = re.search(r\"((1[0-2]|0?\\d):(\\d\\d) ([AaPp][Mm]))\",event_string)  \n",
    "        \n",
    "    events_dict[i] = {\n",
    "        'date': date,\n",
    "        'time':time.group(0) if time else '',\n",
    "        'title': title,\n",
    "        'details':details\n",
    "    }"
   ]
  },
  {
   "cell_type": "code",
   "execution_count": 18,
   "metadata": {},
   "outputs": [],
   "source": [
    "district = 105\n",
    "#remove previous entries\n",
    "session.query(Event).filter(Event.district == district).delete()\n",
    "session.commit()\n",
    "\n",
    "#add items to database\n",
    "for event in events_dict.values():\n",
    "    row = Event(title=event['title'], date=event['date'],\n",
    "                details=event['details'], time=event['time'], district= district)\n",
    "    session.add(row)\n",
    "session.commit()"
   ]
  },
  {
   "cell_type": "code",
   "execution_count": 19,
   "metadata": {},
   "outputs": [
    {
     "name": "stdout",
     "output_type": "stream",
     "text": [
      "Transportation & Street Activity Permits Committee – 6:00 PM - 5/5: 6:00 PM\n",
      "Battery Park City Committee – 6:00 PM - 5/6: 6:00 PM\n",
      "Land Use, Zoning & Economic Development Committee – 6:00PM - 5/11: \n",
      "Youth & Education Committee – 5:30 PM         (Held Jointly with Manhattan CB 2’s Youth Committee) - 5/12: 5:30 PM\n",
      "Licensing & Permits Committee – 6:00 PM - 5/13: 6:00 PM\n",
      "Landmarks & Preservation Committee – 6:00 PM - 5/14: 6:00 PM\n",
      "Environmental Protection Committee – 6:00 PM - 5/18: 6:00 PM\n",
      "Waterfront, Parks & Cultural Committee – 6:00 PM - 5/19: 6:00 PM\n",
      "Executive Committee – 6:00 PM - 5/20: 6:00 PM\n",
      "Quality of Life & Service Delivery Committee – 6:00 PM - 5/21: 6:00 PM\n",
      "Office Closed – Memorial Day - 5/25: \n"
     ]
    }
   ],
   "source": [
    "#print all users\n",
    "for event in session.query(Event).filter(Event.district == 101):\n",
    "    print(event)"
   ]
  },
  {
   "cell_type": "code",
   "execution_count": null,
   "metadata": {},
   "outputs": [],
   "source": []
  }
 ],
 "metadata": {
  "kernelspec": {
   "display_name": "Python 3",
   "language": "python",
   "name": "python3"
  },
  "language_info": {
   "codemirror_mode": {
    "name": "ipython",
    "version": 3
   },
   "file_extension": ".py",
   "mimetype": "text/x-python",
   "name": "python",
   "nbconvert_exporter": "python",
   "pygments_lexer": "ipython3",
   "version": "3.7.6"
  }
 },
 "nbformat": 4,
 "nbformat_minor": 2
}
