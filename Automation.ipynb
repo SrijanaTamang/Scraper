{
 "cells": [
  {
   "cell_type": "code",
   "execution_count": 39,
   "metadata": {},
   "outputs": [],
   "source": [
    "def clearFile(filename):\n",
    "    open(filename, 'w').close()"
   ]
  },
  {
   "cell_type": "code",
   "execution_count": 44,
   "metadata": {},
   "outputs": [],
   "source": [
    "clearFile('log.txt')"
   ]
  },
  {
   "cell_type": "code",
   "execution_count": 45,
   "metadata": {},
   "outputs": [
    {
     "name": "stdout",
     "output_type": "stream",
     "text": [
      "[None, None, None, None, None, None, None, None, None, None, None, None]\n"
     ]
    }
   ],
   "source": [
    "import multiprocessing\n",
    "import subprocess\n",
    "commands = ['CB1.py','CB2.py','CB3.py','CB4.py','CB5.py', 'CB6.py','CB7.py','CB8.py','CB9.py','CB10.py','CB11.py','CB12.py']\n",
    "\n",
    "def runScript(filename):\n",
    "    from subprocess import PIPE, CalledProcessError, check_call, Popen\n",
    "\n",
    "    with open(\"log.txt\", \"a\") as file_object:\n",
    "        file_object.write(f'\\nThis is the start of {filename} -----------------------------------------------\\n')\n",
    "        cmd = f'python ./{filename}'\n",
    "        try:\n",
    "            df = Popen(cmd, stdout=PIPE,stderr=PIPE,shell= True)\n",
    "            output, err = df.communicate()\n",
    "            file_object.write(f'\\nOutput from {filename} here:\\n')\n",
    "            file_object.writelines(str(output.decode(\"utf-8\")).split('\\n'))\n",
    "            file_object.write(f'\\n\\nError from {filename} here:\\n')\n",
    "            file_object.writelines(str(err.decode(\"utf-8\")).split('\\n'))\n",
    "        except CalledProcessError as e:\n",
    "            print(e)\n",
    "            exit(1)\n",
    "            \n",
    "            \n",
    "if __name__ == '__main__':\n",
    "    count = multiprocessing.cpu_count()\n",
    "    pool = multiprocessing.Pool(processes=count)\n",
    "    print(pool.map(runScript, commands))"
   ]
  }
 ],
 "metadata": {
  "kernelspec": {
   "display_name": "Python 3",
   "language": "python",
   "name": "python3"
  },
  "language_info": {
   "codemirror_mode": {
    "name": "ipython",
    "version": 3
   },
   "file_extension": ".py",
   "mimetype": "text/x-python",
   "name": "python",
   "nbconvert_exporter": "python",
   "pygments_lexer": "ipython3",
   "version": "3.7.6"
  }
 },
 "nbformat": 4,
 "nbformat_minor": 4
}
